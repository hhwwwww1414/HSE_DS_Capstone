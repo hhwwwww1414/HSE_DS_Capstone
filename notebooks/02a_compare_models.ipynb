{
 "cells": [
  {
   "cell_type": "markdown",
   "id": "ab87151b",
   "metadata": {},
   "source": [
    "\n",
    "# 02a — Model comparison & key insights  \n",
    "\n",
    "Сравниваем **6 ML‑моделей** по PR‑AUC, смотрим feature‑importance LGBM  \n",
    "и демонстрируем парадокс «богатый клиент уходит чаще».\n"
   ]
  },
  {
   "cell_type": "code",
   "execution_count": 1,
   "id": "c75fae04",
   "metadata": {},
   "outputs": [
    {
     "name": "stderr",
     "output_type": "stream",
     "text": [
      "c:\\Users\\imoney\\projects\\HSE2206\\.venv\\Lib\\site-packages\\tqdm\\auto.py:21: TqdmWarning: IProgress not found. Please update jupyter and ipywidgets. See https://ipywidgets.readthedocs.io/en/stable/user_install.html\n",
      "  from .autonotebook import tqdm as notebook_tqdm\n"
     ]
    },
    {
     "ename": "FileNotFoundError",
     "evalue": "[Errno 2] No such file or directory: 'c:\\\\Users\\\\imoney\\\\projects\\\\HSE2206\\\\artifacts\\\\lgbm_best_params.json'",
     "output_type": "error",
     "traceback": [
      "\u001b[31m---------------------------------------------------------------------------\u001b[39m",
      "\u001b[31mFileNotFoundError\u001b[39m                         Traceback (most recent call last)",
      "\u001b[36mCell\u001b[39m\u001b[36m \u001b[39m\u001b[32mIn[1]\u001b[39m\u001b[32m, line 23\u001b[39m\n\u001b[32m     21\u001b[39m \u001b[38;5;66;03m# ► Optuna‑study + лучшие параметры\u001b[39;00m\n\u001b[32m     22\u001b[39m study       = joblib.load(ART / \u001b[33m\"\u001b[39m\u001b[33mlgbm_optuna.pkl\u001b[39m\u001b[33m\"\u001b[39m)\n\u001b[32m---> \u001b[39m\u001b[32m23\u001b[39m best_params = json.load(\u001b[38;5;28;43mopen\u001b[39;49m\u001b[43m(\u001b[49m\u001b[43mART\u001b[49m\u001b[43m \u001b[49m\u001b[43m/\u001b[49m\u001b[43m \u001b[49m\u001b[33;43m\"\u001b[39;49m\u001b[33;43mlgbm_best_params.json\u001b[39;49m\u001b[33;43m\"\u001b[39;49m\u001b[43m)\u001b[49m)\n\u001b[32m     24\u001b[39m \u001b[38;5;28mprint\u001b[39m(\u001b[33m'\u001b[39m\u001b[33mOptuna best PR‑AUC\u001b[39m\u001b[33m'\u001b[39m, \u001b[38;5;28mround\u001b[39m(study.best_value, \u001b[32m5\u001b[39m))\n",
      "\u001b[36mFile \u001b[39m\u001b[32mc:\\Users\\imoney\\projects\\HSE2206\\.venv\\Lib\\site-packages\\IPython\\core\\interactiveshell.py:327\u001b[39m, in \u001b[36m_modified_open\u001b[39m\u001b[34m(file, *args, **kwargs)\u001b[39m\n\u001b[32m    320\u001b[39m \u001b[38;5;28;01mif\u001b[39;00m file \u001b[38;5;129;01min\u001b[39;00m {\u001b[32m0\u001b[39m, \u001b[32m1\u001b[39m, \u001b[32m2\u001b[39m}:\n\u001b[32m    321\u001b[39m     \u001b[38;5;28;01mraise\u001b[39;00m \u001b[38;5;167;01mValueError\u001b[39;00m(\n\u001b[32m    322\u001b[39m         \u001b[33mf\u001b[39m\u001b[33m\"\u001b[39m\u001b[33mIPython won\u001b[39m\u001b[33m'\u001b[39m\u001b[33mt let you open fd=\u001b[39m\u001b[38;5;132;01m{\u001b[39;00mfile\u001b[38;5;132;01m}\u001b[39;00m\u001b[33m by default \u001b[39m\u001b[33m\"\u001b[39m\n\u001b[32m    323\u001b[39m         \u001b[33m\"\u001b[39m\u001b[33mas it is likely to crash IPython. If you know what you are doing, \u001b[39m\u001b[33m\"\u001b[39m\n\u001b[32m    324\u001b[39m         \u001b[33m\"\u001b[39m\u001b[33myou can use builtins\u001b[39m\u001b[33m'\u001b[39m\u001b[33m open.\u001b[39m\u001b[33m\"\u001b[39m\n\u001b[32m    325\u001b[39m     )\n\u001b[32m--> \u001b[39m\u001b[32m327\u001b[39m \u001b[38;5;28;01mreturn\u001b[39;00m \u001b[43mio_open\u001b[49m\u001b[43m(\u001b[49m\u001b[43mfile\u001b[49m\u001b[43m,\u001b[49m\u001b[43m \u001b[49m\u001b[43m*\u001b[49m\u001b[43margs\u001b[49m\u001b[43m,\u001b[49m\u001b[43m \u001b[49m\u001b[43m*\u001b[49m\u001b[43m*\u001b[49m\u001b[43mkwargs\u001b[49m\u001b[43m)\u001b[49m\n",
      "\u001b[31mFileNotFoundError\u001b[39m: [Errno 2] No such file or directory: 'c:\\\\Users\\\\imoney\\\\projects\\\\HSE2206\\\\artifacts\\\\lgbm_best_params.json'"
     ]
    }
   ],
   "source": [
    "\n",
    "from pathlib import Path\n",
    "import pandas as pd\n",
    "import joblib, json, matplotlib.pyplot as plt, seaborn as sns\n",
    "sns.set_style(\"whitegrid\")\n",
    "\n",
    "# ► каталоги\n",
    "ROOT = Path.cwd().parent          # репозиторий (notebooks/ -> ../)\n",
    "ART  = ROOT / \"artifacts\"         # Optuna и прочие артефакты\n",
    "\n",
    "# ► метрики PR‑AUC 6 моделей\n",
    "metrics = {\n",
    "    \"LogReg\": 0.474,\n",
    "    \"RandomForest\": 0.505,\n",
    "    \"GradientBoosting\": 0.521,\n",
    "    \"MLP\": 0.466,\n",
    "    \"LightGBM (tuned)\": 0.586,\n",
    "    \"CatBoost\": 0.562,\n",
    "}\n",
    "pr_auc = pd.Series(metrics).sort_values()\n",
    "\n",
    "# ► Optuna‑study + лучшие параметры\n",
    "study       = joblib.load(ART / \"lgbm_optuna.pkl\")\n",
    "best_params = json.load(open(ART / \"lgbm_best_params.json\"))\n",
    "print('Optuna best PR‑AUC', round(study.best_value, 5))\n"
   ]
  },
  {
   "cell_type": "code",
   "execution_count": null,
   "id": "6ee09999",
   "metadata": {},
   "outputs": [],
   "source": [
    "\n",
    "ax = pr_auc.plot.barh(figsize=(6,4), color=\"skyblue\")\n",
    "ax.set_xlabel(\"PR‑AUC\"); ax.set_title(\"Сравнение 6 моделей\")\n",
    "for i,v in enumerate(pr_auc.values):\n",
    "    ax.text(v + 0.002, i, f\"{v:.3f}\", va=\"center\")\n",
    "plt.show()\n"
   ]
  },
  {
   "cell_type": "code",
   "execution_count": null,
   "id": "e62deedb",
   "metadata": {},
   "outputs": [],
   "source": [
    "\n",
    "from lightgbm import LGBMClassifier, plot_importance\n",
    "\n",
    "# обучаем заново (оба препроцессора внутри train_churn уже есть)\n",
    "X, y = pd.read_csv(ROOT/'data/raw/churn/Churn_Modelling.csv', index_col=False), None\n",
    "y = X.pop('Exited').values\n",
    "\n",
    "best_lgbm = LGBMClassifier(**best_params).fit(X, y)\n",
    "plot_importance(best_lgbm, max_num_features=15, figsize=(6,4))\n",
    "plt.title(\"LightGBM Feature Importance (top‑15)\")\n",
    "plt.show()\n"
   ]
  },
  {
   "cell_type": "code",
   "execution_count": null,
   "id": "ef541c6a",
   "metadata": {},
   "outputs": [],
   "source": [
    "\n",
    "sns.boxplot(x='Exited', y='Balance',\n",
    "            data=pd.read_csv(ROOT/'data/raw/churn/Churn_Modelling.csv'),\n",
    "            palette='pastel')\n",
    "plt.title(\"Парадокс: клиенты с высокими Balance уходят чаще\")\n",
    "plt.xlabel(\"Exited (0 = остался, 1 = ушёл)\")\n",
    "plt.ylabel(\"Balance (€)\")\n",
    "plt.show()\n"
   ]
  },
  {
   "cell_type": "markdown",
   "id": "a41ff5ec",
   "metadata": {},
   "source": [
    "\n",
    "## Ключевые выводы  \n",
    "* **LightGBM + Optuna** даёт прирост PR‑AUC ≈ **+0.11** к логрегрессии.  \n",
    "* Тройка важнейших признаков: `Age`, `Balance`, `CreditScore`.  \n",
    "* Boxplot показывает, что медианный **Balance ушедших выше** (≈ €145 k) — парадокс «богатый клиент уходит».  \n",
    "→ Банку стоит запустить премиальный тариф и персональные retention‑акции для high‑balance сегмента.\n"
   ]
  }
 ],
 "metadata": {
  "kernelspec": {
   "display_name": ".venv",
   "language": "python",
   "name": "python3"
  },
  "language_info": {
   "codemirror_mode": {
    "name": "ipython",
    "version": 3
   },
   "file_extension": ".py",
   "mimetype": "text/x-python",
   "name": "python",
   "nbconvert_exporter": "python",
   "pygments_lexer": "ipython3",
   "version": "3.11.9"
  }
 },
 "nbformat": 4,
 "nbformat_minor": 5
}
